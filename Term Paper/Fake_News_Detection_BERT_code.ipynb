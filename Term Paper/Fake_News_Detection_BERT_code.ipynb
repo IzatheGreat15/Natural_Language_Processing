{
  "nbformat": 4,
  "nbformat_minor": 0,
  "metadata": {
    "colab": {
      "provenance": [],
      "gpuType": "T4"
    },
    "kernelspec": {
      "name": "python3",
      "display_name": "Python 3"
    },
    "language_info": {
      "name": "python"
    },
    "accelerator": "GPU"
  },
  "cells": [
    {
      "cell_type": "code",
      "execution_count": 48,
      "metadata": {
        "id": "kTPjB-1oGMCG",
        "colab": {
          "base_uri": "https://localhost:8080/"
        },
        "outputId": "8947912a-1bfa-460c-8ed6-c69437089c19"
      },
      "outputs": [
        {
          "output_type": "stream",
          "name": "stderr",
          "text": [
            "/usr/local/lib/python3.10/dist-packages/spacy/util.py:1740: UserWarning: [W111] Jupyter notebook detected: if using `prefer_gpu()` or `require_gpu()`, include it in the same cell right before `spacy.load()` to ensure that the model is loaded on the correct device. More information: http://spacy.io/usage/v3#jupyter-notebook-gpu\n",
            "  warnings.warn(Warnings.W111)\n"
          ]
        }
      ],
      "source": [
        "import pandas as pd\n",
        "import spacy\n",
        "import re\n",
        "\n",
        "url_real = 'https://drive.google.com/uc?id={}'.format('17JT9YWj_xEIvbacmDcGBlNEUHmwWViAF')\n",
        "url_fake = 'https://drive.google.com/uc?id={}'.format('18QhQwdVbmXPCsuUx7AF6KyNnitsZdVvM')\n",
        "\n",
        "# Load data\n",
        "real_news = pd.read_csv(url_real).head(100)\n",
        "fake_news = pd.read_csv(url_fake).head(100)\n",
        "\n",
        "# Combine datasets\n",
        "real_news['label'] = 1\n",
        "fake_news['label'] = 0\n",
        "news_data = pd.concat([real_news, fake_news], ignore_index=True)\n",
        "\n",
        "# Load SpaCy model\n",
        "nlp = spacy.load(\"en_core_web_sm\")\n",
        "\n",
        "# Text cleaning function\n",
        "def clean_text(text):\n",
        "    doc = nlp(text)\n",
        "    tokens = [token.lemma_.lower() for token in doc if not token.is_stop and not token.is_punct and not token.is_space]\n",
        "    return \" \".join(tokens)\n",
        "\n",
        "# Apply text cleaning\n",
        "news_data['cleaned_text'] = news_data['text'].apply(clean_text)\n"
      ]
    },
    {
      "cell_type": "code",
      "source": [
        "!pip3 install --quiet \"tensorflow-text==2.8.*\"\n",
        "\n",
        "import tensorflow as tf\n",
        "import tensorflow_hub as hub\n",
        "import tensorflow_text as text\n",
        "\n",
        "\n",
        "# Load BERT tokenizer from TensorFlow Hub\n",
        "bert_preprocess = hub.KerasLayer(\"https://tfhub.dev/tensorflow/bert_en_uncased_preprocess/3\")\n",
        "bert_encoder = hub.KerasLayer(\"https://tfhub.dev/tensorflow/bert_en_uncased_L-12_H-768_A-12/4\")\n",
        "\n",
        "def preprocess_texts(texts):\n",
        "    return bert_preprocess(texts)"
      ],
      "metadata": {
        "id": "fVG1D27yNsZY"
      },
      "execution_count": 49,
      "outputs": []
    },
    {
      "cell_type": "code",
      "source": [
        "from tensorflow.keras.models import Model\n",
        "from tensorflow.keras.layers import Input, Dropout, Dense\n",
        "\n",
        "# Input layer\n",
        "input_text = Input(shape=(), dtype=tf.string, name='text')\n",
        "preprocessed_text = preprocess_texts(input_text)\n",
        "bert_outputs = bert_encoder(preprocessed_text)\n",
        "\n",
        "# Classification head\n",
        "dropout = Dropout(0.25)(bert_outputs['pooled_output'])\n",
        "output = Dense(1, activation='sigmoid')(dropout)\n",
        "\n",
        "# Model definition\n",
        "model = Model(inputs=[input_text], outputs=[output])\n",
        "model.compile(optimizer=tf.keras.optimizers.Adam(learning_rate=0.01), loss='binary_crossentropy', metrics=['accuracy'])\n"
      ],
      "metadata": {
        "id": "sPhTNk1sNwRu"
      },
      "execution_count": 50,
      "outputs": []
    },
    {
      "cell_type": "code",
      "source": [
        "# Split data\n",
        "from sklearn.model_selection import train_test_split\n",
        "\n",
        "train_data, temp_data = train_test_split(news_data, test_size=0.2, stratify=news_data['label'])\n",
        "val_data, test_data = train_test_split(temp_data, test_size=0.5, stratify=temp_data['label'])\n",
        "\n",
        "# Training\n",
        "history = model.fit(train_data['cleaned_text'], train_data['label'],\n",
        "                    validation_data=(val_data['cleaned_text'], val_data['label']),\n",
        "                    epochs=5, batch_size=32, callbacks=[tf.keras.callbacks.EarlyStopping(patience=2)])\n"
      ],
      "metadata": {
        "colab": {
          "base_uri": "https://localhost:8080/"
        },
        "id": "TiNvWxAPNz0Q",
        "outputId": "30fd30d2-ccc1-4a26-c9fd-575229482a1f"
      },
      "execution_count": 51,
      "outputs": [
        {
          "output_type": "stream",
          "name": "stdout",
          "text": [
            "Epoch 1/5\n",
            "5/5 [==============================] - 93s 14s/step - loss: 1.0146 - accuracy: 0.5312 - val_loss: 1.1355 - val_accuracy: 0.6500\n",
            "Epoch 2/5\n",
            "5/5 [==============================] - 58s 12s/step - loss: 0.7522 - accuracy: 0.6125 - val_loss: 0.6956 - val_accuracy: 0.5000\n",
            "Epoch 3/5\n",
            "5/5 [==============================] - 58s 12s/step - loss: 0.6215 - accuracy: 0.6687 - val_loss: 0.7331 - val_accuracy: 0.6500\n",
            "Epoch 4/5\n",
            "5/5 [==============================] - 59s 12s/step - loss: 0.6237 - accuracy: 0.6812 - val_loss: 0.5794 - val_accuracy: 0.6500\n",
            "Epoch 5/5\n",
            "5/5 [==============================] - 59s 12s/step - loss: 0.5592 - accuracy: 0.6875 - val_loss: 0.5539 - val_accuracy: 0.7000\n"
          ]
        }
      ]
    },
    {
      "cell_type": "code",
      "source": [
        "from sklearn.metrics import classification_report, confusion_matrix, roc_auc_score, roc_curve\n",
        "import matplotlib.pyplot as plt\n",
        "\n",
        "# Predictions\n",
        "test_predictions = model.predict(test_data['cleaned_text'])\n",
        "test_predictions_bin = (test_predictions > 0.5).astype(int)\n",
        "\n",
        "# Evaluation\n",
        "print(classification_report(test_data['label'], test_predictions_bin))\n",
        "print(confusion_matrix(test_data['label'], test_predictions_bin))\n",
        "\n",
        "# ROC-AUC\n",
        "roc_auc = roc_auc_score(test_data['label'], test_predictions)\n",
        "print(f'ROC-AUC: {roc_auc}')\n",
        "\n",
        "# Plot ROC Curve\n",
        "fpr, tpr, _ = roc_curve(test_data['label'], test_predictions)\n",
        "plt.plot(fpr, tpr, marker='.')\n",
        "plt.xlabel('False Positive Rate')\n",
        "plt.ylabel('True Positive Rate')\n",
        "plt.title('ROC Curve')\n",
        "plt.show()\n"
      ],
      "metadata": {
        "colab": {
          "base_uri": "https://localhost:8080/",
          "height": 680
        },
        "id": "6NUthZYwQ2i9",
        "outputId": "84e722bb-d331-42b8-e263-a585a2b33851"
      },
      "execution_count": 52,
      "outputs": [
        {
          "output_type": "stream",
          "name": "stdout",
          "text": [
            "              precision    recall  f1-score   support\n",
            "\n",
            "           0       0.67      0.40      0.50        10\n",
            "           1       0.57      0.80      0.67        10\n",
            "\n",
            "    accuracy                           0.60        20\n",
            "   macro avg       0.62      0.60      0.58        20\n",
            "weighted avg       0.62      0.60      0.58        20\n",
            "\n",
            "[[4 6]\n",
            " [2 8]]\n",
            "ROC-AUC: 0.76\n"
          ]
        },
        {
          "output_type": "display_data",
          "data": {
            "text/plain": [
              "<Figure size 640x480 with 1 Axes>"
            ],
            "image/png": "[encoded data removed]"
          },
          "metadata": {}
        }
      ]
    }
  ]
}